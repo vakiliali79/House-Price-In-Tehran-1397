{
 "cells": [
  {
   "cell_type": "code",
   "execution_count": 1,
   "id": "9f9083c6",
   "metadata": {},
   "outputs": [
    {
     "name": "stderr",
     "output_type": "stream",
     "text": [
      "c:\\users\\maadized\\appdata\\local\\programs\\python\\python39\\lib\\site-packages\\scipy\\__init__.py:138: UserWarning: A NumPy version >=1.16.5 and <1.23.0 is required for this version of SciPy (detected version 1.23.4)\n",
      "  warnings.warn(f\"A NumPy version >={np_minversion} and <{np_maxversion} is required for this version of \"\n"
     ]
    }
   ],
   "source": [
    "import pandas as pd # data processing\n",
    "import numpy as np # working with arrays\n",
    "import matplotlib.pyplot as plt # visualization\n",
    "from matplotlib import rcParams # figure size\n",
    "from termcolor import colored as cl # text customization\n",
    "\n",
    "from sklearn.tree import DecisionTreeClassifier as dtc # tree algorithm\n",
    "from sklearn.model_selection import train_test_split # splitting the data\n",
    "from sklearn.metrics import accuracy_score # model precision\n",
    "from sklearn.tree import plot_tree # tree diagram"
   ]
  },
  {
   "cell_type": "code",
   "execution_count": 2,
   "id": "8ab953ad",
   "metadata": {},
   "outputs": [],
   "source": [
    "rcParams['figure.figsize'] = (25, 30)"
   ]
  },
  {
   "cell_type": "code",
   "execution_count": 19,
   "id": "8c2078b4",
   "metadata": {},
   "outputs": [],
   "source": []
  },
  {
   "cell_type": "code",
   "execution_count": 3,
   "id": "216ba139",
   "metadata": {},
   "outputs": [
    {
     "name": "stdout",
     "output_type": "stream",
     "text": [
      "   Area  Room  Parking  Warehouse  Elevator         Address         Price  \\\n",
      "0    63     1     True       True      True         Shahran  1.850000e+09   \n",
      "1    60     1     True       True      True         Shahran  1.850000e+09   \n",
      "2    79     2     True       True      True          Pardis  5.500000e+08   \n",
      "3    95     2     True       True      True   Shahrake Qods  9.025000e+08   \n",
      "4   123     2     True       True      True  Shahrake Gharb  7.000000e+09   \n",
      "\n",
      "   Price(USD)  \n",
      "0    61666.67  \n",
      "1    61666.67  \n",
      "2    18333.33  \n",
      "3    30083.33  \n",
      "4   233333.33  \n"
     ]
    }
   ],
   "source": [
    "df = pd.read_csv('housePrice.csv')\n",
    "\n",
    "print(cl(df.head(), attrs = ['bold']))"
   ]
  },
  {
   "cell_type": "code",
   "execution_count": 4,
   "id": "d4df842c",
   "metadata": {
    "scrolled": true
   },
   "outputs": [
    {
     "name": "stdout",
     "output_type": "stream",
     "text": [
      "<class 'pandas.core.frame.DataFrame'>\n",
      "RangeIndex: 3465 entries, 0 to 3464\n",
      "Data columns (total 8 columns):\n",
      " #   Column      Non-Null Count  Dtype  \n",
      "---  ------      --------------  -----  \n",
      " 0   Area        3465 non-null   int64  \n",
      " 1   Room        3465 non-null   int64  \n",
      " 2   Parking     3465 non-null   bool   \n",
      " 3   Warehouse   3465 non-null   bool   \n",
      " 4   Elevator    3465 non-null   bool   \n",
      " 5   Address     3442 non-null   object \n",
      " 6   Price       3465 non-null   float64\n",
      " 7   Price(USD)  3465 non-null   float64\n",
      "dtypes: bool(3), float64(2), int64(2), object(1)\n",
      "memory usage: 145.6+ KB\n"
     ]
    }
   ],
   "source": [
    "df.info()"
   ]
  },
  {
   "cell_type": "code",
   "execution_count": 5,
   "id": "61cf7fae",
   "metadata": {},
   "outputs": [
    {
     "name": "stdout",
     "output_type": "stream",
     "text": [
      "      Area  Room  Parking  Warehouse  Elevator  Address         Price  \\\n",
      "0       63     1     True       True      True        0  1.850000e+09   \n",
      "1       60     1     True       True      True        0  1.850000e+09   \n",
      "2       79     2     True       True      True        1  5.500000e+08   \n",
      "3       95     2     True       True      True        2  9.025000e+08   \n",
      "4      123     2     True       True      True        3  7.000000e+09   \n",
      "...    ...   ...      ...        ...       ...      ...           ...   \n",
      "3460    86     2     True       True      True       16  3.500000e+09   \n",
      "3461    83     2     True       True      True       78  6.800000e+09   \n",
      "3462    75     2    False      False     False       27  3.650000e+08   \n",
      "3463   105     2     True       True      True       46  5.600000e+09   \n",
      "3464    82     2    False       True      True       27  3.600000e+08   \n",
      "\n",
      "      Price(USD)  \n",
      "0       61666.67  \n",
      "1       61666.67  \n",
      "2       18333.33  \n",
      "3       30083.33  \n",
      "4      233333.33  \n",
      "...          ...  \n",
      "3460   116666.67  \n",
      "3461   226666.67  \n",
      "3462    12166.67  \n",
      "3463   186666.67  \n",
      "3464    12000.00  \n",
      "\n",
      "[3465 rows x 8 columns]\n"
     ]
    }
   ],
   "source": [
    "df.Address = pd.factorize(df.Address)[0]\n",
    "print (df)"
   ]
  },
  {
   "cell_type": "code",
   "execution_count": 6,
   "id": "1abffd36",
   "metadata": {
    "scrolled": false
   },
   "outputs": [
    {
     "name": "stdout",
     "output_type": "stream",
     "text": [
      "0       19\n",
      "1       19\n",
      "2        6\n",
      "3       10\n",
      "4       70\n",
      "        ..\n",
      "3460    35\n",
      "3461    68\n",
      "3462     4\n",
      "3463    56\n",
      "3464     4\n",
      "Name: PriceCat, Length: 3465, dtype: category\n",
      "Categories (1499, int64): [1 < 2 < 3 < 4 ... 1496 < 1497 < 1498 < 1499]\n"
     ]
    }
   ],
   "source": [
    "priceGps=[]\n",
    "priceIndex=[]\n",
    "for i in range(1500):\n",
    "    priceGps.append(i*100000000.0)\n",
    "    if i!=0:\n",
    "        priceIndex.append(i)\n",
    "df['PriceCat'] = pd.cut(x=df['Price'],bins=priceGps,labels=priceIndex)\n",
    "print(df.PriceCat)"
   ]
  },
  {
   "cell_type": "code",
   "execution_count": 7,
   "id": "395e974c",
   "metadata": {},
   "outputs": [
    {
     "name": "stdout",
     "output_type": "stream",
     "text": [
      "[19, 19, 6, 10, 70, ..., 35, 68, 4, 56, 4]\n",
      "Length: 3465\n",
      "Categories (1499, int64): [1 < 2 < 3 < 4 ... 1496 < 1497 < 1498 < 1499]\n",
      "X variable samples : [[63 1 True True 0]\n",
      " [60 1 True True 0]\n",
      " [79 2 True True 1]\n",
      " [95 2 True True 2]\n",
      " [123 2 True True 3]]\n",
      "Y variable samples : [19, 19, 6, 10, 70]\n",
      "Categories (1499, int64): [1 < 2 < 3 < 4 ... 1496 < 1497 < 1498 < 1499]\n"
     ]
    }
   ],
   "source": [
    "X_var = df[['Area', 'Room', 'Parking', 'Warehouse', 'Address']].values # independent variable\n",
    "y_var = df['PriceCat'].values # dependent variable\n",
    "print(y_var)\n",
    "print(cl('X variable samples : {}'.format(X_var[:5]), attrs = ['bold']))\n",
    "print(cl('Y variable samples : {}'.format(y_var[:5]), attrs = ['bold']))"
   ]
  },
  {
   "cell_type": "code",
   "execution_count": 8,
   "id": "5abae6ef",
   "metadata": {},
   "outputs": [
    {
     "name": "stdout",
     "output_type": "stream",
     "text": [
      "X_train shape : (2598, 5)\n",
      "X_test shape : (867, 5)\n",
      "y_train shape : (2598,)\n",
      "y_test shape : (867,)\n"
     ]
    }
   ],
   "source": [
    "\n",
    "X_train, X_test, y_train, y_test = train_test_split(X_var, y_var, train_size=0.75, random_state = 0)\n",
    "\n",
    "print(cl('X_train shape : {}'.format(X_train.shape), attrs = ['bold'], color = 'black'))\n",
    "print(cl('X_test shape : {}'.format(X_test.shape), attrs = ['bold'], color = 'black'))\n",
    "print(cl('y_train shape : {}'.format(y_train.shape), attrs = ['bold'], color = 'black'))\n",
    "print(cl('y_test shape : {}'.format(y_test.shape), attrs = ['bold'], color = 'black'))"
   ]
  },
  {
   "cell_type": "code",
   "execution_count": 9,
   "id": "11853b4e",
   "metadata": {
    "scrolled": true
   },
   "outputs": [
    {
     "name": "stdout",
     "output_type": "stream",
     "text": [
      "Accuracy of the model is 15%\n"
     ]
    }
   ],
   "source": [
    "model = dtc(criterion = 'entropy', max_depth =15)\n",
    "model.fit(X_train, y_train)\n",
    "\n",
    "pred_model = model.predict(X_test)\n",
    "\n",
    "print(cl('Accuracy of the model is {:.0%}'.format(accuracy_score(y_test, pred_model)), attrs = ['bold']))\n"
   ]
  },
  {
   "cell_type": "code",
   "execution_count": null,
   "id": "922cbe12",
   "metadata": {
    "scrolled": false
   },
   "outputs": [
    {
     "name": "stdout",
     "output_type": "stream",
     "text": [
      "success\n"
     ]
    }
   ],
   "source": [
    "feature_names = df.columns[:5]\n",
    "target_names = df['PriceCat'].unique().tolist()\n",
    "\n",
    "plot_tree(model, \n",
    "          feature_names = feature_names, \n",
    "          class_names =str( target_names),\n",
    "          filled = True, \n",
    "          rounded = True)\n",
    "\n",
    "plt.savefig('tree_visualization.png',dpi=1200) \n",
    "print('success')"
   ]
  },
  {
   "cell_type": "code",
   "execution_count": null,
   "id": "caede077",
   "metadata": {},
   "outputs": [],
   "source": []
  },
  {
   "cell_type": "code",
   "execution_count": null,
   "id": "045a8b55",
   "metadata": {},
   "outputs": [],
   "source": []
  },
  {
   "cell_type": "code",
   "execution_count": null,
   "id": "732af2e9",
   "metadata": {},
   "outputs": [],
   "source": []
  },
  {
   "cell_type": "code",
   "execution_count": null,
   "id": "a1d1b635",
   "metadata": {},
   "outputs": [],
   "source": []
  }
 ],
 "metadata": {
  "kernelspec": {
   "display_name": "Python 3 (ipykernel)",
   "language": "python",
   "name": "python3"
  },
  "language_info": {
   "codemirror_mode": {
    "name": "ipython",
    "version": 3
   },
   "file_extension": ".py",
   "mimetype": "text/x-python",
   "name": "python",
   "nbconvert_exporter": "python",
   "pygments_lexer": "ipython3",
   "version": "3.9.1"
  }
 },
 "nbformat": 4,
 "nbformat_minor": 5
}
